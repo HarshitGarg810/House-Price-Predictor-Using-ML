{
 "cells": [
  {
   "cell_type": "code",
   "execution_count": null,
   "id": "1e9b7140-8ffe-457f-b6a7-8dbd2d000658",
   "metadata": {},
   "outputs": [],
   "source": []
  }
 ],
 "metadata": {
  "kernelspec": {
   "display_name": "",
   "name": ""
  },
  "language_info": {
   "name": ""
  }
 },
 "nbformat": 4,
 "nbformat_minor": 5
}
